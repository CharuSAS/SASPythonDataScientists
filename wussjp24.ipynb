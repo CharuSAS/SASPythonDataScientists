{
 "cells": [
  {
   "cell_type": "markdown",
   "metadata": {},
   "source": [
    "## Python Data Science Methodology"
   ]
  },
  {
   "cell_type": "markdown",
   "metadata": {},
   "source": [
    "Access - Identify analysis tables that will be used in load those tables.<br> \n",
    "Explore/Investigate - Inspect tables to determine whether any changes are needed for data items due to data inconsistencies or data quality issues, as well as identify any new data items <br>that need to be calculated. <br>\n",
    "Prepare - Correct any data quality issues and create any new calculated items needed for analysis. <br>\n",
    "Analyze - Explore  data to identify any patterns, relationships, and trends. <br>\n",
    "Report - Develop interactive reports that can be shared via the web or a mobile device."
   ]
  },
  {
   "cell_type": "markdown",
   "metadata": {},
   "source": [
    "### importing an image"
   ]
  },
  {
   "cell_type": "code",
   "execution_count": 1,
   "metadata": {},
   "outputs": [
    {
     "data": {
      "text/html": [
       "<img src=\"https://www.canr.msu.edu/home_gardening/uploads/images/Photo1-Rusty.jpg?language_id=1\" width=\"300\">"
      ],
      "text/plain": [
       "<IPython.core.display.HTML object>"
      ]
     },
     "metadata": {},
     "output_type": "display_data"
    }
   ],
   "source": [
    "from IPython.display import display, HTML\n",
    " \n",
    "image_url = \"https://www.canr.msu.edu/home_gardening/uploads/images/Photo1-Rusty.jpg?language_id=1\"\n",
    "html_code = f'<img src=\"{image_url}\" width=\"300\">'\n",
    " \n",
    "display(HTML(html_code))"
   ]
  },
  {
   "cell_type": "markdown",
   "metadata": {},
   "source": [
    "Bumble bees are important pollinators of wild flowering plants and agricultural crops. They are able to fly in cooler temperatures and lower light levels than many other bees, making them excellent pollinators—especially at higher elevations and latitudes. They also perform a behavior called “buzz pollination,” in which the bee grabs the flower in her jaws and vibrates her wing muscles to dislodge pollen from the flower. Many plants, including a number of wildflowers and crops like tomatoes, peppers, and cranberries, benefit from buzz pollination.\n",
    "\n",
    "Because they are essential pollinators, loss of bumble bees can have far ranging ecological consequences. Alarmingly, recent work by the Xerces Society in concert with IUCN Bumble Bee Specialist Group, indicates that some species have experienced rapid and dramatic declines more than others. In fact, more than one quarter (28%) of all North American bumble bees are facing some degree of extinction risk. While some species have received considerable conservation attention, other species such as the Suckley cuckoo bumble bee and the variable cuckoo bumble bee have been largely overlooked.\n",
    "\n",
    "For information about our efforts to conserve the rusty patched bumble bee (Bombus affinis), please see its <a href='https://www.xerces.org/rusty-patched-bumble-bee/'>profile page</a> and check out this <a href='https://storymaps.arcgis.com/stories/c5e591a19eb24d28af483ede7b174434'>story map</a>."
   ]
  },
  {
   "cell_type": "markdown",
   "metadata": {},
   "source": [
    "## Data Access Python"
   ]
  },
  {
   "cell_type": "markdown",
   "metadata": {},
   "source": [
    "#### Reading a CSV File into a DataFrame"
   ]
  },
  {
   "cell_type": "markdown",
   "metadata": {},
   "source": [
    "Reading a CSV file into a DataFrame is the first step in data analysis using pandas. This task involves loading data from a CSV file into a pandas DataFrame, which provides a powerful and flexible data structure for data manipulation and analysis. The read_csv function is used to read the CSV file, making the data easily accessible for various operations such as filtering, grouping, and aggregating."
   ]
  },
  {
   "cell_type": "code",
   "execution_count": 1,
   "metadata": {},
   "outputs": [],
   "source": [
    "import pandas as pd"
   ]
  },
  {
   "cell_type": "code",
   "execution_count": 5,
   "metadata": {},
   "outputs": [
    {
     "name": "stderr",
     "output_type": "stream",
     "text": [
      "/tmp/ipykernel_11001/2713840696.py:2: DtypeWarning: Columns (6,16) have mixed types. Specify dtype option on import or set low_memory=False.\n",
      "  df1=pd.read_csv('/workspaces/myfolder/SASPythonDataScientists/pattern_decline__N_American_Bumblebees.csv' , encoding='latin-1')\n"
     ]
    }
   ],
   "source": [
    "# Read the North American bumblebee CSV file into a DataFrame for easy data manipulation and analysis.\n",
    "df1=pd.read_csv('/workspaces/myfolder/SASPythonDataScientists/pattern_decline__N_American_Bumblebees.csv' , encoding='latin-1')"
   ]
  },
  {
   "cell_type": "code",
   "execution_count": null,
   "metadata": {},
   "outputs": [],
   "source": [
    "https://stackoverflow.com/questions/5552555/unicodedecodeerror-invalid-continuation-byte encoding=latin-1"
   ]
  },
  {
   "cell_type": "code",
   "execution_count": 7,
   "metadata": {},
   "outputs": [],
   "source": [
    "# Read the Mexican bumblebee CSV file into a DataFrame for easy data manipulation and analysis.\n",
    "df2=pd.read_csv('/workspaces/myfolder/SASPythonDataScientists/pattern_decline__Mexican_Bumblebees.csv' , encoding='latin-1')"
   ]
  },
  {
   "cell_type": "markdown",
   "metadata": {},
   "source": [
    "#### Data Interoperability"
   ]
  },
  {
   "cell_type": "code",
   "execution_count": null,
   "metadata": {},
   "outputs": [],
   "source": [
    "df=pd.read_sas()"
   ]
  },
  {
   "cell_type": "code",
   "execution_count": null,
   "metadata": {},
   "outputs": [],
   "source": [
    "df1.describe"
   ]
  },
  {
   "cell_type": "markdown",
   "metadata": {},
   "source": [
    "## Data Exploration"
   ]
  },
  {
   "cell_type": "markdown",
   "metadata": {},
   "source": [
    "#### Get to know Python metadata"
   ]
  },
  {
   "cell_type": "code",
   "execution_count": null,
   "metadata": {},
   "outputs": [],
   "source": [
    "df1.describe"
   ]
  },
  {
   "cell_type": "code",
   "execution_count": null,
   "metadata": {},
   "outputs": [],
   "source": [
    "print(df1.dtypes)"
   ]
  },
  {
   "cell_type": "code",
   "execution_count": null,
   "metadata": {},
   "outputs": [],
   "source": [
    "df1.dtypes"
   ]
  },
  {
   "cell_type": "markdown",
   "metadata": {},
   "source": [
    "##### Concatenating 2 data frames to combine North American(excluding Alaska) and Mexican Bumblebees"
   ]
  },
  {
   "cell_type": "markdown",
   "metadata": {},
   "source": [
    "##### great explanation https://realpython.com/pandas-merge-join-and-concat/\n",
    "https://pandas.pydata.org/docs/user_guide/merging.html"
   ]
  },
  {
   "cell_type": "code",
   "execution_count": 8,
   "metadata": {},
   "outputs": [],
   "source": [
    "dfbig=pd.concat([df1,df2])"
   ]
  },
  {
   "cell_type": "code",
   "execution_count": 9,
   "metadata": {},
   "outputs": [
    {
     "data": {
      "text/plain": [
       "<bound method NDFrame.describe of            id institutionCode collectionCode      basisOfRecord  occurrenceID  \\\n",
       "0   699384987        USDA-ARS           BBSL  PreservedSpecimen     699384987   \n",
       "1   699384988        USDA-ARS           BBSL  PreservedSpecimen     699384988   \n",
       "2   699384989        USDA-ARS           BBSL  PreservedSpecimen     699384989   \n",
       "3   699384990        USDA-ARS           BBSL  PreservedSpecimen     699384990   \n",
       "4   699384991        USDA-ARS           BBSL  PreservedSpecimen     699384991   \n",
       "..        ...             ...            ...                ...           ...   \n",
       "19  767112267        USDA-ARS           BBSL  PreservedSpecimen     767112267   \n",
       "20  767113738        USDA-ARS           BBSL  PreservedSpecimen     767113738   \n",
       "21  767135957        USDA-ARS           BBSL  PreservedSpecimen     767135957   \n",
       "22  767136283        USDA-ARS           BBSL  PreservedSpecimen     767136283   \n",
       "23  767140079        USDA-ARS           BBSL  PreservedSpecimen     767140079   \n",
       "\n",
       "   catalogNumber        recordedBy    year  month   day  ...   kingdom  \\\n",
       "0     BBSL221088       W. Apperson  1970.0    7.0  27.0  ...  Animalia   \n",
       "1     BBSL241571       W. Apperson  1970.0    7.0  27.0  ...  Animalia   \n",
       "2          76122         B. Hevron  1989.0    6.0  16.0  ...  Animalia   \n",
       "3       JPS30053  P.S. Bartholomew  1970.0    9.0  15.0  ...  Animalia   \n",
       "4     BBSL226571       W.J. Hanson  1961.0    8.0  15.0  ...  Animalia   \n",
       "..           ...               ...     ...    ...   ...  ...       ...   \n",
       "19    BOMBUS1219               NaN  1928.0    8.0  19.0  ...  Animalia   \n",
       "20    BOMBUS1348               NaN  1928.0    7.0  13.0  ...  Animalia   \n",
       "21   BOMBUS33485               NaN  1930.0    9.0  13.0  ...  Animalia   \n",
       "22   BOMBUS33755               NaN  1944.0    1.0   8.0  ...  Animalia   \n",
       "23   BOMBUS37213               NaN  1933.0    6.0  19.0  ...  Animalia   \n",
       "\n",
       "        phylum    class        order  family   genus specificEpithet  \\\n",
       "0   Arthropoda  Insecta  Hymenoptera  Apidae  Bombus    occidentalis   \n",
       "1   Arthropoda  Insecta  Hymenoptera  Apidae  Bombus    occidentalis   \n",
       "2   Arthropoda  Insecta  Hymenoptera  Apidae  Bombus        bifarius   \n",
       "3   Arthropoda  Insecta  Hymenoptera  Apidae  Bombus    occidentalis   \n",
       "4   Arthropoda  Insecta  Hymenoptera  Apidae  Bombus        bifarius   \n",
       "..         ...      ...          ...     ...     ...             ...   \n",
       "19  Arthropoda  Insecta  Hymenoptera  Apidae  Bombus   pensylvanicus   \n",
       "20  Arthropoda  Insecta  Hymenoptera  Apidae  Bombus   pensylvanicus   \n",
       "21  Arthropoda  Insecta  Hymenoptera  Apidae  Bombus   pensylvanicus   \n",
       "22  Arthropoda  Insecta  Hymenoptera  Apidae  Bombus   pensylvanicus   \n",
       "23  Arthropoda  Insecta  Hymenoptera  Apidae  Bombus       impatiens   \n",
       "\n",
       "   scientificNameAuthorship informationWithheld vernacularName  \n",
       "0               Greene 1858                 NaN            NaN  \n",
       "1               Greene 1858                 NaN            NaN  \n",
       "2              Cresson 1878                 NaN            NaN  \n",
       "3               Greene 1858                 NaN            NaN  \n",
       "4              Cresson 1878                 NaN            NaN  \n",
       "..                      ...                 ...            ...  \n",
       "19            (DeGeer 1773)                 NaN            NaN  \n",
       "20            (DeGeer 1773)                 NaN            NaN  \n",
       "21            (DeGeer 1773)                 NaN            NaN  \n",
       "22            (DeGeer 1773)                 NaN            NaN  \n",
       "23             Cresson 1863                 NaN            NaN  \n",
       "\n",
       "[66931 rows x 28 columns]>"
      ]
     },
     "execution_count": 9,
     "metadata": {},
     "output_type": "execute_result"
    }
   ],
   "source": [
    "dfbig.describe"
   ]
  },
  {
   "cell_type": "markdown",
   "metadata": {},
   "source": [
    "#### Drop columns from pandas dataframe"
   ]
  },
  {
   "cell_type": "markdown",
   "metadata": {},
   "source": [
    "###### You can find out name of first column by using this command df.columns[0]. Indexing in python starts from 0."
   ]
  },
  {
   "cell_type": "code",
   "execution_count": null,
   "metadata": {},
   "outputs": [],
   "source": [
    "cols=[2,3,4,5,6,7,8,9,10,11]\n",
    "df.drop = (dfbig.columns[cols],axis=1)"
   ]
  },
  {
   "cell_type": "markdown",
   "metadata": {},
   "source": [
    "#### Get to know data types"
   ]
  },
  {
   "cell_type": "code",
   "execution_count": null,
   "metadata": {},
   "outputs": [],
   "source": [
    "print(dfbig.dtypes)"
   ]
  },
  {
   "cell_type": "markdown",
   "metadata": {},
   "source": [
    "When you import data into a Pandas DataFrame, Pandas by default tries to know the data types of each column. Columns with text are by default marked as Object datatype.\n",
    "\n",
    "But Object dtype have a much broader scope. They can not only include strings, but also any other data that Pandas doesn't understand.\n",
    "\n",
    "After Pandas 1.0 (now 1.1.2), there's a dedicated dtype to handle and work with text data, that is, String.🤔\n",
    "\n",
    "How is this important?\n",
    "\n",
    "When a column is Object type, it does not necessarily mean that all the values will be string.\n",
    "\n",
    "In fact, they can all be numbers, or a mixture of string, integers and floats.\n",
    "\n",
    "With this discrepancy present, you can not do any string operation on the column straightaway.\n",
    "\n",
    "Moreover, having dtype as Object will make it less clear to work with just text and exclude the non-text values.\n",
    "\n",
    "With the new String dtype, the values are explicitly treated as strings."
   ]
  },
  {
   "cell_type": "markdown",
   "metadata": {},
   "source": [
    "Convert the DataFrame to use best possible dtypes."
   ]
  },
  {
   "cell_type": "code",
   "execution_count": null,
   "metadata": {},
   "outputs": [],
   "source": [
    "dfconv = dfbig.convert_dtypes()\n",
    "dfconv.dtypes"
   ]
  },
  {
   "cell_type": "markdown",
   "metadata": {},
   "source": [
    "#### Request descriptive statistics"
   ]
  },
  {
   "cell_type": "code",
   "execution_count": null,
   "metadata": {},
   "outputs": [],
   "source": [
    "print(dfconv.describe())"
   ]
  },
  {
   "cell_type": "markdown",
   "metadata": {},
   "source": [
    "#### Request first 5 rows of data"
   ]
  },
  {
   "cell_type": "code",
   "execution_count": null,
   "metadata": {},
   "outputs": [],
   "source": [
    "print(dfconv.head())"
   ]
  },
  {
   "cell_type": "code",
   "execution_count": null,
   "metadata": {},
   "outputs": [],
   "source": [
    "print(dfconv.tail())"
   ]
  },
  {
   "cell_type": "markdown",
   "metadata": {},
   "source": [
    "## Pattern Matching in Python"
   ]
  },
  {
   "cell_type": "code",
   "execution_count": null,
   "metadata": {},
   "outputs": [],
   "source": [
    "import regex as re"
   ]
  },
  {
   "cell_type": "markdown",
   "metadata": {},
   "source": [
    "##  Filtering Rows Based on a Condition"
   ]
  },
  {
   "cell_type": "markdown",
   "metadata": {},
   "source": [
    "Filtering rows based on a condition is a common data management task that allows you to focus on a specific subset of your data. By applying a condition to a column, such as selecting rows where the pollinator_genus is Bumblebee, you can isolate and analyze the data that meets your criteria. This helps in drawing insights and making data-driven decisions based on relevant data subsets."
   ]
  },
  {
   "cell_type": "code",
   "execution_count": null,
   "metadata": {},
   "outputs": [],
   "source": [
    "# Filter rows where \n",
    "filtered_df = df.query('pollinator_genus == \"Bombus\"')\n",
    "print(filtered_df)"
   ]
  },
  {
   "cell_type": "markdown",
   "metadata": {},
   "source": [
    "print creates a basic looking output, use df.head etc. instead\n",
    "python is object oriented, so every line of code uses an object.\n",
    "following cell is indexing. df is the dataframe. df[1] selects first row, df[1,2] selects first row, 2nd col; df[0:10, 2]"
   ]
  },
  {
   "cell_type": "code",
   "execution_count": null,
   "metadata": {},
   "outputs": [],
   "source": [
    "df[df['pollinator_genus'] == 'Bombus']"
   ]
  },
  {
   "cell_type": "code",
   "execution_count": null,
   "metadata": {},
   "outputs": [],
   "source": [
    "df['pollinator_genus'] == 'Bombus'"
   ]
  },
  {
   "cell_type": "code",
   "execution_count": null,
   "metadata": {},
   "outputs": [],
   "source": [
    "sum(df['pollinator_genus'] == 'Bombus')\n"
   ]
  },
  {
   "cell_type": "code",
   "execution_count": null,
   "metadata": {},
   "outputs": [],
   "source": [
    "sum(~(df['pollinator_genus'] == 'Bombus'))"
   ]
  },
  {
   "cell_type": "code",
   "execution_count": null,
   "metadata": {},
   "outputs": [],
   "source": [
    "sum((df['pollinator_genus'] != 'Bombus'))"
   ]
  },
  {
   "cell_type": "markdown",
   "metadata": {},
   "source": [
    "## Handling Missing Values Fill missing values with the column mean"
   ]
  },
  {
   "cell_type": "markdown",
   "metadata": {},
   "source": [
    "Handling missing values is crucial for maintaining data integrity and ensuring accurate analysis. Missing data can be filled using various methods, such as replacing them with the column mean. This task involves using the fillna function to fill any NaN (Not a Number) values in the DataFrame with the mean of their respective columns, thereby preventing potential biases or errors in subsequent analyses."
   ]
  },
  {
   "cell_type": "code",
   "execution_count": null,
   "metadata": {},
   "outputs": [],
   "source": [
    "df.fillna(df.mean(), inplace=True)\n",
    "print(df)"
   ]
  },
  {
   "cell_type": "markdown",
   "metadata": {},
   "source": [
    "## Applying a Function to Each Column"
   ]
  },
  {
   "cell_type": "markdown",
   "metadata": {},
   "source": [
    "Applying a function to each column allows you to perform element-wise operations across the DataFrame. This task involves using the apply function with a lambda function to modify the values in each column. For example, multiplying each element by 2. This technique is useful for standardizing data, performing calculations, and transforming data values as needed."
   ]
  },
  {
   "cell_type": "code",
   "execution_count": null,
   "metadata": {},
   "outputs": [],
   "source": [
    "# Apply a lambda function to each column\n",
    "df = df.apply(lambda x: x*2)\n",
    "print(df)"
   ]
  },
  {
   "cell_type": "markdown",
   "metadata": {},
   "source": [
    "## Exporting DataFrame to CSV"
   ]
  },
  {
   "cell_type": "code",
   "execution_count": null,
   "metadata": {},
   "outputs": [],
   "source": [
    "# Export the DataFrame to a CSV file\n",
    "df.to_csv('cleaned_data.csv', index=False)\n",
    "print(\"DataFrame exported to cleaned_data.csv\")"
   ]
  },
  {
   "cell_type": "markdown",
   "metadata": {},
   "source": [
    "## Grouping Aggregating Data"
   ]
  },
  {
   "cell_type": "code",
   "execution_count": null,
   "metadata": {},
   "outputs": [],
   "source": [
    "4. Grouping Data and Calculating Aggregates\n",
    "# Group by column 'country' and calculate the count of each group\n",
    "grouped_df = dfconv.groupby(\"Country\").sum()\n",
    "print(grouped_df)"
   ]
  },
  {
   "cell_type": "code",
   "execution_count": null,
   "metadata": {},
   "outputs": [],
   "source": [
    "dfconv[\"country\"].groupby(\"country\").sum()"
   ]
  },
  {
   "cell_type": "markdown",
   "metadata": {},
   "source": [
    "4. Count Frequency Value Using GroupBy.size()\n",
    "df.groupby().size() function to get the count frequency of single or multiple columns,  Apply the size() function on the resulting Groupby() object to get a frequency count."
   ]
  },
  {
   "cell_type": "code",
   "execution_count": null,
   "metadata": {},
   "outputs": [],
   "source": [
    "list(df1)"
   ]
  },
  {
   "cell_type": "markdown",
   "metadata": {},
   "source": [
    "get a python list"
   ]
  },
  {
   "cell_type": "code",
   "execution_count": null,
   "metadata": {},
   "outputs": [],
   "source": [
    "df1.select_dtypes(include=['object']).columns"
   ]
  },
  {
   "cell_type": "code",
   "execution_count": null,
   "metadata": {},
   "outputs": [],
   "source": [
    "pd.crosstab(index=df1['column'])"
   ]
  },
  {
   "cell_type": "markdown",
   "metadata": {},
   "source": [
    "Ari 20aug 24 frequency counts for all categorical variables\n",
    "for loop-instead of looping over index; iterating thro categorical columns\n",
    "column =goes thro each of the list elements\n",
    "display - print -running crosstab method in pandas;"
   ]
  },
  {
   "cell_type": "code",
   "execution_count": null,
   "metadata": {},
   "outputs": [],
   "source": [
    "tables=[]\n",
    "for column in df1.select_dtypes(include=['object']).columns:\n",
    "    tables.append(pd.crosstab(index=df1[column], columns='number of observations'))"
   ]
  },
  {
   "cell_type": "code",
   "execution_count": null,
   "metadata": {},
   "outputs": [],
   "source": [
    "tables"
   ]
  },
  {
   "cell_type": "code",
   "execution_count": null,
   "metadata": {},
   "outputs": [],
   "source": [
    "for column in df1.select_dtypes(include=['object']).columns:\n",
    "    display(pd.crosstab(index=df1[column], columns='number of observations'))"
   ]
  },
  {
   "cell_type": "code",
   "execution_count": null,
   "metadata": {},
   "outputs": [],
   "source": [
    "for column in df1.select_dtypes(include=['object']).columns:\n",
    "    display(pd.crosstab(index=df1[column], columns='% observations', normalize='columns')*100)"
   ]
  },
  {
   "cell_type": "code",
   "execution_count": null,
   "metadata": {},
   "outputs": [],
   "source": [
    "dfcount=df1.groupby(list(df1)).size()\n",
    "print(\"counts\",dfcount)"
   ]
  },
  {
   "cell_type": "code",
   "execution_count": null,
   "metadata": {},
   "outputs": [],
   "source": [
    "dfcount=df1.groupby(['country']).size()\n",
    "print(\"counts\",dfcount)"
   ]
  },
  {
   "cell_type": "code",
   "execution_count": null,
   "metadata": {},
   "outputs": [],
   "source": [
    "dfcount=dfconv.groupby(['country']).size()\n",
    "print(\"counts\",dfcount)"
   ]
  },
  {
   "cell_type": "markdown",
   "metadata": {},
   "source": [
    "The nunique() method returns the number of unique values for each column.\n",
    "\n",
    "By specifying the column axis (axis='columns'), the nunique() method searches column-wise and returns the number of unique values for each row.\n",
    "\n",
    "Syntax\n",
    "dataframe.nunique(axis, dropna)"
   ]
  },
  {
   "cell_type": "code",
   "execution_count": null,
   "metadata": {},
   "outputs": [],
   "source": [
    "dfconv.nunique('columns')"
   ]
  },
  {
   "cell_type": "code",
   "execution_count": null,
   "metadata": {},
   "outputs": [],
   "source": [
    "diff types is the problem\n",
    "dfconv.apply(lambda x: x.value_counts()).T.stack()"
   ]
  },
  {
   "cell_type": "code",
   "execution_count": null,
   "metadata": {},
   "outputs": [],
   "source": [
    "count = df1.groupby(['country', 'stateProvince', 'scientificName']).size() \n",
    "print(count) "
   ]
  },
  {
   "cell_type": "code",
   "execution_count": null,
   "metadata": {},
   "outputs": [],
   "source": [
    "count = dfconv.groupby(['country', 'stateProvince', 'scientificName']).size() \n",
    "print(count) "
   ]
  },
  {
   "cell_type": "code",
   "execution_count": null,
   "metadata": {},
   "outputs": [],
   "source": [
    "count = df['fruit'].value_counts()['apple']\n",
    "\n",
    "print(f\"The number of apples is: {count}\")"
   ]
  },
  {
   "cell_type": "markdown",
   "metadata": {},
   "source": [
    "## Merging data frames"
   ]
  },
  {
   "cell_type": "markdown",
   "metadata": {},
   "source": [
    "We're diving into the world of bumblebees by buzzing through some data magic in Python! Imagine we've got one table that's packed with the scientific names of our favorite fuzzy pollinators, and another that's got their common names. By concatenating the scientific names into one tidy table and then merging it with the common names, we're basically creating the ultimate bee database—bringing together the formal and the familiar. It's like giving each bee its proper name tag at the hive party! This way, we can easily connect the dots between the Latin and the layman's terms, making our bumblebee data analysis as sweet as honey. 🐝💻"
   ]
  },
  {
   "cell_type": "code",
   "execution_count": 36,
   "metadata": {},
   "outputs": [],
   "source": [
    "df3=pd.read_csv(\"/workspaces/myfolder/SASPythonDataScientists/Bumblebee_Scientific_Common_Names.csv\", encoding='latin-1')"
   ]
  },
  {
   "cell_type": "code",
   "execution_count": 37,
   "metadata": {},
   "outputs": [],
   "source": [
    "df3=pd.read_csv(\"https://raw.githubusercontent.com/CharuSAS/SASPythonDataScientists/main/Bumblebee_Scientific_Common_Names.csv\", encoding='latin-1')"
   ]
  },
  {
   "cell_type": "code",
   "execution_count": null,
   "metadata": {},
   "outputs": [],
   "source": [
    "df3.describe"
   ]
  },
  {
   "cell_type": "markdown",
   "metadata": {},
   "source": [
    "Take a quick look at the dimensions of the tables we are about to merge"
   ]
  },
  {
   "cell_type": "code",
   "execution_count": 18,
   "metadata": {},
   "outputs": [
    {
     "data": {
      "text/plain": [
       "(55, 3)"
      ]
     },
     "execution_count": 18,
     "metadata": {},
     "output_type": "execute_result"
    }
   ],
   "source": [
    "df3.shape"
   ]
  },
  {
   "cell_type": "markdown",
   "metadata": {},
   "source": [
    "When working with our two bumblebee tables—one buzzing with scientific names and the other humming with common names—Python's merge() function is like a matchmaker for your data. The great thing about merge() is that it lets you decide exactly how these two tables come together. Say you want to merge them based on the ScientificName column, ensuring that each bee's formal identity pairs up perfectly with its everyday nickname. By using the on parameter, you can create the ultimate bee directory where the Latin meets the common, all while keeping your data as sharp as a bee's stinger! 🐝🔗"
   ]
  },
  {
   "cell_type": "code",
   "execution_count": null,
   "metadata": {},
   "outputs": [],
   "source": [
    "inner_merged = pd.merge(df1, df3, on=[\"SCIENTIFICNAME\"])"
   ]
  },
  {
   "cell_type": "markdown",
   "metadata": {},
   "source": [
    " column names for dataframes are case sensitive.\n",
    "\n",
    "Dataframe column names are essentially string values, which are case sensitive in Python. Because of this, you will need to be careful whenever you utilize column names, such as when renaming a column, accessing columns or performing functions on them."
   ]
  },
  {
   "cell_type": "code",
   "execution_count": 25,
   "metadata": {},
   "outputs": [],
   "source": [
    "df1.columns = df1.columns.str.lower()"
   ]
  },
  {
   "cell_type": "code",
   "execution_count": 40,
   "metadata": {},
   "outputs": [],
   "source": [
    "df3.columns = df3.columns.str.lower()"
   ]
  },
  {
   "cell_type": "code",
   "execution_count": 41,
   "metadata": {},
   "outputs": [
    {
     "data": {
      "text/plain": [
       "<bound method NDFrame.describe of               id institutioncode collectioncode      basisofrecord  \\\n",
       "0      699384987        USDA-ARS           BBSL  PreservedSpecimen   \n",
       "1      699384988        USDA-ARS           BBSL  PreservedSpecimen   \n",
       "2      699384989        USDA-ARS           BBSL  PreservedSpecimen   \n",
       "3      699384990        USDA-ARS           BBSL  PreservedSpecimen   \n",
       "4      699384991        USDA-ARS           BBSL  PreservedSpecimen   \n",
       "...          ...             ...            ...                ...   \n",
       "66902  767151731        USDA-ARS           BBSL  PreservedSpecimen   \n",
       "66903  767151732        USDA-ARS           BBSL  PreservedSpecimen   \n",
       "66904  767151733        USDA-ARS           BBSL  PreservedSpecimen   \n",
       "66905  767151734        USDA-ARS           BBSL  PreservedSpecimen   \n",
       "66906  767151735        USDA-ARS           BBSL  PreservedSpecimen   \n",
       "\n",
       "       occurrenceid catalognumber                recordedby    year  month  \\\n",
       "0         699384987    BBSL221088               W. Apperson  1970.0    7.0   \n",
       "1         699384988    BBSL241571               W. Apperson  1970.0    7.0   \n",
       "2         699384989         76122                 B. Hevron  1989.0    6.0   \n",
       "3         699384990      JPS30053          P.S. Bartholomew  1970.0    9.0   \n",
       "4         699384991    BBSL226571               W.J. Hanson  1961.0    8.0   \n",
       "...             ...           ...                       ...     ...    ...   \n",
       "66902     767151731  USNM00679992              E.C. Jackson  1917.0    NaN   \n",
       "66903     767151732  USNM00679995                 D.G. Hall  1940.0    NaN   \n",
       "66904     767151733  USNM00679996                 D.G. Hall  1940.0    NaN   \n",
       "66905     767151734  USNM00679997                 D.G. Hall  1940.0    NaN   \n",
       "66906     767151735  USNM00679999  D.G. Hall, G.F. Knowlton  1940.0    NaN   \n",
       "\n",
       "        day  ...        identifiedby       scientificname   kingdom  \\\n",
       "0      27.0  ...                 NaN  Bombus occidentalis  Animalia   \n",
       "1      27.0  ...                 NaN  Bombus occidentalis  Animalia   \n",
       "2      16.0  ...  T.L. Griswold 1994      Bombus bifarius  Animalia   \n",
       "3      15.0  ...  R.S. Jacobson 1991  Bombus occidentalis  Animalia   \n",
       "4      15.0  ...                 NaN      Bombus bifarius  Animalia   \n",
       "...     ...  ...                 ...                  ...       ...   \n",
       "66902   NaN  ...      J.B. Koch 2010      Bombus bifarius  Animalia   \n",
       "66903   NaN  ...      J.B. Koch 2010      Bombus bifarius  Animalia   \n",
       "66904   NaN  ...      J.B. Koch 2010      Bombus bifarius  Animalia   \n",
       "66905   NaN  ...      J.B. Koch 2010      Bombus bifarius  Animalia   \n",
       "66906   NaN  ...      J.B. Koch 2010      Bombus bifarius  Animalia   \n",
       "\n",
       "           phylum    class        order  family   genus specificepithet  \\\n",
       "0      Arthropoda  Insecta  Hymenoptera  Apidae  Bombus    occidentalis   \n",
       "1      Arthropoda  Insecta  Hymenoptera  Apidae  Bombus    occidentalis   \n",
       "2      Arthropoda  Insecta  Hymenoptera  Apidae  Bombus        bifarius   \n",
       "3      Arthropoda  Insecta  Hymenoptera  Apidae  Bombus    occidentalis   \n",
       "4      Arthropoda  Insecta  Hymenoptera  Apidae  Bombus        bifarius   \n",
       "...           ...      ...          ...     ...     ...             ...   \n",
       "66902  Arthropoda  Insecta  Hymenoptera  Apidae  Bombus        bifarius   \n",
       "66903  Arthropoda  Insecta  Hymenoptera  Apidae  Bombus        bifarius   \n",
       "66904  Arthropoda  Insecta  Hymenoptera  Apidae  Bombus        bifarius   \n",
       "66905  Arthropoda  Insecta  Hymenoptera  Apidae  Bombus        bifarius   \n",
       "66906  Arthropoda  Insecta  Hymenoptera  Apidae  Bombus        bifarius   \n",
       "\n",
       "      scientificnameauthorship  \n",
       "0                  Greene 1858  \n",
       "1                  Greene 1858  \n",
       "2                 Cresson 1878  \n",
       "3                  Greene 1858  \n",
       "4                 Cresson 1878  \n",
       "...                        ...  \n",
       "66902             Cresson 1878  \n",
       "66903             Cresson 1878  \n",
       "66904             Cresson 1878  \n",
       "66905             Cresson 1878  \n",
       "66906             Cresson 1878  \n",
       "\n",
       "[66907 rows x 26 columns]>"
      ]
     },
     "execution_count": 41,
     "metadata": {},
     "output_type": "execute_result"
    }
   ],
   "source": [
    "df1.describe"
   ]
  },
  {
   "cell_type": "code",
   "execution_count": 42,
   "metadata": {},
   "outputs": [
    {
     "data": {
      "text/plain": [
       "<bound method NDFrame.describe of           scientificname                       commonname  \\\n",
       "0                 Bombus                        Bumblebee   \n",
       "1         Bombus affinis          Rusty Patched Bumblebee   \n",
       "2       Bombus appositus       White-shouldered Bumblebee   \n",
       "3         Bombus ashtoni          Ashton Cuckoo Bumblebee   \n",
       "4         Bombus atratus                  Black Bumblebee   \n",
       "5       Bombus auricomus         Black and Gold Bumblebee   \n",
       "6       Bombus balteatus          Golden-belted Bumblebee   \n",
       "7        Bombus bifarius               Two-form Bumblebee   \n",
       "8     Bombus bimaculatus            Two-spotted Bumblebee   \n",
       "9       Bombus bohemicus           Gypsy Cuckoo Bumblebee   \n",
       "10       Bombus borealis         Northern Amber Bumblebee   \n",
       "11    Bombus caliginosus                Obscure Bumblebee   \n",
       "12      Bombus centralis                Central Bumblebee   \n",
       "13       Bombus citrinus           Lemon Cuckoo Bumblebee   \n",
       "14     Bombus cockerelli            Cockerells Bumblebee   \n",
       "15       Bombus crotchii                 Crotch Bumblebee   \n",
       "16  Bombus distinguendus           Great Yellow Bumblebee   \n",
       "17      Bombus excellens               Splendid Bumblebee   \n",
       "18      Bombus fernaldae       Fernalds Cuckoo Bumblebee   \n",
       "19       Bombus fervidus                 Yellow Bumblebee   \n",
       "20     Bombus flavifrons         Yellow-fronted Bumblebee   \n",
       "21      Bombus franklini             Franklins Bumblebee   \n",
       "22      Bombus fraternus        Southern Plains Bumblebee   \n",
       "23       Bombus frigidus                 Frigid Bumblebee   \n",
       "24   Bombus griseocollis           Brown-belted Bumblebee   \n",
       "25         Bombus huntii                 Hunts Bumblebee   \n",
       "26      Bombus hypocrita              Hypocrite Bumblebee   \n",
       "27      Bombus impatiens         Common Eastern Bumblebee   \n",
       "28      Bombus insularis  Indiscriminate Cuckoo Bumblebee   \n",
       "29     Bombus lapponicus                Lapland Bumblebee   \n",
       "30        Bombus lucorum           White-tailed Bumblebee   \n",
       "31    Bombus melanopygus          Orange-rumped Bumblebee   \n",
       "32         Bombus mixtus           Fuzzy-horned Bumblebee   \n",
       "33      Bombus morrisoni             Morrisons Bumblebee   \n",
       "34     Bombus nevadensis                 Nevada Bumblebee   \n",
       "35        Bombus nobilis                  Noble Bumblebee   \n",
       "36   Bombus occidentalis                Western Bumblebee   \n",
       "37      Bombus pascuorum          Common Carder Bumblebee   \n",
       "38  Bombus pensylvanicus               American Bumblebee   \n",
       "39      Bombus perplexus              Confusing Bumblebee   \n",
       "40    Bombus rotundiceps           Round-headed Bumblebee   \n",
       "41    Bombus rufocinctus             Red-belted Bumblebee   \n",
       "42     Bombus sandersoni            Sandersons Bumblebee   \n",
       "43     Bombus simillimus                Similar Bumblebee   \n",
       "44      Bombus sitkensis                  Sitka Bumblebee   \n",
       "45        Bombus sonorus                Sonoran Bumblebee   \n",
       "46       Bombus suckleyi       Suckleys Cuckoo Bumblebee   \n",
       "47      Bombus ternarius            Tri-colored Bumblebee   \n",
       "48     Bombus terrestris            Buff-tailed Bumblebee   \n",
       "49      Bombus terricola          Yellow-banded Bumblebee   \n",
       "50         Bombus vagans             Half-black Bumblebee   \n",
       "51       Bombus vandykei               Van Dyke Bumblebee   \n",
       "52     Bombus variabilis        Variable Cuckoo Bumblebee   \n",
       "53   Bombus vosnesenskii           Yellow-faced Bumblebee   \n",
       "54          Bombus weisi                Weisis Bumblebee   \n",
       "\n",
       "                                               source  \n",
       "0                          General Name for the Genus  \n",
       "1                                       IUCN Red List  \n",
       "2                         Bumblebees of North America  \n",
       "3                         Bumblebees of North America  \n",
       "4   Integrated Taxonomic Information System (Integ...  \n",
       "5                         Bumblebees of North America  \n",
       "6                         Bumblebees of North America  \n",
       "7                         Bumblebees of North America  \n",
       "8                         Bumblebees of North America  \n",
       "9                                       IUCN Red List  \n",
       "10                        Bumblebees of North America  \n",
       "11                        Bumblebees of North America  \n",
       "12     Integrated Taxonomic Information System (ITIS)  \n",
       "13                        Bumblebees of North America  \n",
       "14                        Bumblebees of North America  \n",
       "15                                      IUCN Red List  \n",
       "16                        Bumblebees of North America  \n",
       "17     Integrated Taxonomic Information System (ITIS)  \n",
       "18                        Bumblebees of North America  \n",
       "19                        Bumblebees of North America  \n",
       "20                        Bumblebees of North America  \n",
       "21                                      IUCN Red List  \n",
       "22                        Bumblebees of North America  \n",
       "23                        Bumblebees of North America  \n",
       "24                        Bumblebees of North America  \n",
       "25                        Bumblebees of North America  \n",
       "26     Integrated Taxonomic Information System (ITIS)  \n",
       "27                        Bumblebees of North America  \n",
       "28                        Bumblebees of North America  \n",
       "29                        Bumblebees of North America  \n",
       "30                        Bumblebees of North America  \n",
       "31                        Bumblebees of North America  \n",
       "32                        Bumblebees of North America  \n",
       "33                        Bumblebees of North America  \n",
       "34                        Bumblebees of North America  \n",
       "35     Integrated Taxonomic Information System (ITIS)  \n",
       "36                                      IUCN Red List  \n",
       "37                        Bumblebees of North America  \n",
       "38                        Bumblebees of North America  \n",
       "39                        Bumblebees of North America  \n",
       "40     Integrated Taxonomic Information System (ITIS)  \n",
       "41                        Bumblebees of North America  \n",
       "42                        Bumblebees of North America  \n",
       "43     Integrated Taxonomic Information System (ITIS)  \n",
       "44                        Bumblebees of North America  \n",
       "45                        Bumblebees of North America  \n",
       "46                                      IUCN Red List  \n",
       "47                        Bumblebees of North America  \n",
       "48                        Bumblebees of North America  \n",
       "49                                      IUCN Red List  \n",
       "50                        Bumblebees of North America  \n",
       "51                        Bumblebees of North America  \n",
       "52                        Bumblebees of North America  \n",
       "53                        Bumblebees of North America  \n",
       "54     Integrated Taxonomic Information System (ITIS)  >"
      ]
     },
     "execution_count": 42,
     "metadata": {},
     "output_type": "execute_result"
    }
   ],
   "source": [
    "df3.describe"
   ]
  },
  {
   "cell_type": "code",
   "execution_count": null,
   "metadata": {},
   "outputs": [],
   "source": [
    "inner_merged.shape"
   ]
  },
  {
   "cell_type": "markdown",
   "metadata": {},
   "source": [
    "### Merge df1 and df3 on column scientificname"
   ]
  },
  {
   "cell_type": "code",
   "execution_count": 43,
   "metadata": {},
   "outputs": [
    {
     "name": "stdout",
     "output_type": "stream",
     "text": [
      "              id institutioncode collectioncode      basisofrecord  \\\n",
      "0      699384987        USDA-ARS           BBSL  PreservedSpecimen   \n",
      "1      699384988        USDA-ARS           BBSL  PreservedSpecimen   \n",
      "2      699384989        USDA-ARS           BBSL  PreservedSpecimen   \n",
      "3      699384990        USDA-ARS           BBSL  PreservedSpecimen   \n",
      "4      699384991        USDA-ARS           BBSL  PreservedSpecimen   \n",
      "...          ...             ...            ...                ...   \n",
      "66902  767151731        USDA-ARS           BBSL  PreservedSpecimen   \n",
      "66903  767151732        USDA-ARS           BBSL  PreservedSpecimen   \n",
      "66904  767151733        USDA-ARS           BBSL  PreservedSpecimen   \n",
      "66905  767151734        USDA-ARS           BBSL  PreservedSpecimen   \n",
      "66906  767151735        USDA-ARS           BBSL  PreservedSpecimen   \n",
      "\n",
      "       occurrenceid catalognumber                recordedby    year  month  \\\n",
      "0         699384987    BBSL221088               W. Apperson  1970.0    7.0   \n",
      "1         699384988    BBSL241571               W. Apperson  1970.0    7.0   \n",
      "2         699384989         76122                 B. Hevron  1989.0    6.0   \n",
      "3         699384990      JPS30053          P.S. Bartholomew  1970.0    9.0   \n",
      "4         699384991    BBSL226571               W.J. Hanson  1961.0    8.0   \n",
      "...             ...           ...                       ...     ...    ...   \n",
      "66902     767151731  USNM00679992              E.C. Jackson  1917.0    NaN   \n",
      "66903     767151732  USNM00679995                 D.G. Hall  1940.0    NaN   \n",
      "66904     767151733  USNM00679996                 D.G. Hall  1940.0    NaN   \n",
      "66905     767151734  USNM00679997                 D.G. Hall  1940.0    NaN   \n",
      "66906     767151735  USNM00679999  D.G. Hall, G.F. Knowlton  1940.0    NaN   \n",
      "\n",
      "        day  ...   kingdom      phylum    class        order  family   genus  \\\n",
      "0      27.0  ...  Animalia  Arthropoda  Insecta  Hymenoptera  Apidae  Bombus   \n",
      "1      27.0  ...  Animalia  Arthropoda  Insecta  Hymenoptera  Apidae  Bombus   \n",
      "2      16.0  ...  Animalia  Arthropoda  Insecta  Hymenoptera  Apidae  Bombus   \n",
      "3      15.0  ...  Animalia  Arthropoda  Insecta  Hymenoptera  Apidae  Bombus   \n",
      "4      15.0  ...  Animalia  Arthropoda  Insecta  Hymenoptera  Apidae  Bombus   \n",
      "...     ...  ...       ...         ...      ...          ...     ...     ...   \n",
      "66902   NaN  ...  Animalia  Arthropoda  Insecta  Hymenoptera  Apidae  Bombus   \n",
      "66903   NaN  ...  Animalia  Arthropoda  Insecta  Hymenoptera  Apidae  Bombus   \n",
      "66904   NaN  ...  Animalia  Arthropoda  Insecta  Hymenoptera  Apidae  Bombus   \n",
      "66905   NaN  ...  Animalia  Arthropoda  Insecta  Hymenoptera  Apidae  Bombus   \n",
      "66906   NaN  ...  Animalia  Arthropoda  Insecta  Hymenoptera  Apidae  Bombus   \n",
      "\n",
      "      specificepithet scientificnameauthorship          commonname  \\\n",
      "0        occidentalis              Greene 1858   Western Bumblebee   \n",
      "1        occidentalis              Greene 1858   Western Bumblebee   \n",
      "2            bifarius             Cresson 1878  Two-form Bumblebee   \n",
      "3        occidentalis              Greene 1858   Western Bumblebee   \n",
      "4            bifarius             Cresson 1878  Two-form Bumblebee   \n",
      "...               ...                      ...                 ...   \n",
      "66902        bifarius             Cresson 1878  Two-form Bumblebee   \n",
      "66903        bifarius             Cresson 1878  Two-form Bumblebee   \n",
      "66904        bifarius             Cresson 1878  Two-form Bumblebee   \n",
      "66905        bifarius             Cresson 1878  Two-form Bumblebee   \n",
      "66906        bifarius             Cresson 1878  Two-form Bumblebee   \n",
      "\n",
      "                            source  \n",
      "0                    IUCN Red List  \n",
      "1                    IUCN Red List  \n",
      "2      Bumblebees of North America  \n",
      "3                    IUCN Red List  \n",
      "4      Bumblebees of North America  \n",
      "...                            ...  \n",
      "66902  Bumblebees of North America  \n",
      "66903  Bumblebees of North America  \n",
      "66904  Bumblebees of North America  \n",
      "66905  Bumblebees of North America  \n",
      "66906  Bumblebees of North America  \n",
      "\n",
      "[66907 rows x 28 columns]\n"
     ]
    }
   ],
   "source": [
    "inner_merged = pd.merge(df1, df3, on=[\"scientificname\"])\n",
    "print(inner_merged)"
   ]
  },
  {
   "cell_type": "code",
   "execution_count": null,
   "metadata": {},
   "outputs": [],
   "source": [
    "pd.read_csv(\"https://github.com/CharuSAS/SASPythonDataScientists/blob/main/bumblebee%20scientific%20and%20common%20name.csv\")"
   ]
  },
  {
   "cell_type": "code",
   "execution_count": null,
   "metadata": {},
   "outputs": [],
   "source": [
    "pd.read_csv(\"https://github.com/CharuSAS/SASPythonDataScientists/blob/main/bumblebee%20scientific%20and%20common%20name.csv\")"
   ]
  },
  {
   "cell_type": "markdown",
   "metadata": {},
   "source": [
    "## Pivoting data frames"
   ]
  },
  {
   "cell_type": "code",
   "execution_count": null,
   "metadata": {},
   "outputs": [],
   "source": [
    "# Pivot the DataFrame on 'index', 'columns', and 'values'\n",
    "pivot_df = df.pivot(index='date', columns='category', values='value')\n",
    "print(pivot_df)"
   ]
  },
  {
   "cell_type": "markdown",
   "metadata": {},
   "source": [
    "## Resampling Time Series Data"
   ]
  },
  {
   "cell_type": "code",
   "execution_count": null,
   "metadata": {},
   "outputs": [],
   "source": [
    "# Resample time series data to monthly frequency\n",
    "df['date'] = pd.to_datetime(df['date'])\n",
    "df.set_index('date', inplace=True)\n",
    "monthly_df = df.resample('M').sum()\n",
    "print(monthly_df)"
   ]
  },
  {
   "cell_type": "markdown",
   "metadata": {},
   "source": [
    "## Removing Duplicate Rows"
   ]
  },
  {
   "cell_type": "code",
   "execution_count": null,
   "metadata": {},
   "outputs": [],
   "source": [
    "\n",
    "# Remove duplicate rows based on all columns\n",
    "df.drop_duplicates(inplace=True)\n",
    "print(df)"
   ]
  },
  {
   "cell_type": "markdown",
   "metadata": {},
   "source": [
    "## Saving imported file to workbench"
   ]
  },
  {
   "cell_type": "code",
   "execution_count": null,
   "metadata": {},
   "outputs": [],
   "source": [
    "import requests\n",
    "\n",
    "# File path and name\n",
    "file_path = r\"/workspaces/myfolder/MachineLearning/hmeq.csv\"\n",
    " \n",
    "# Specify the URL of the CSV file\n",
    "url = r\"https://support.sas.com/documentation/onlinedoc/viya/exampledatasets/hmeq.csv\"\n",
    " \n",
    "# Download the and save CSV file to Workbench\n",
    "response = requests.get(url)\n",
    "with open(file_path, 'wb') as f:\n",
    "    f.write(response.content)\n",
    "    print(f'File downloaded:{file_path}')"
   ]
  }
 ],
 "metadata": {
  "kernelspec": {
   "display_name": "Workbench Python",
   "language": "python",
   "name": "workbench_python"
  },
  "language_info": {
   "codemirror_mode": {
    "name": "ipython",
    "version": 3
   },
   "file_extension": ".py",
   "mimetype": "text/x-python",
   "name": "python",
   "nbconvert_exporter": "python",
   "pygments_lexer": "ipython3",
   "version": "3.11.9"
  }
 },
 "nbformat": 4,
 "nbformat_minor": 2
}
