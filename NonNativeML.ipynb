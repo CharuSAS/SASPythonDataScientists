{
 "cells": [
  {
   "cell_type": "code",
   "execution_count": 1,
   "metadata": {},
   "outputs": [
    {
     "name": "stdout",
     "output_type": "stream",
     "text": [
      "File downloaded:/workspaces/myfolder/Bees/dst6.sas7bdat\n"
     ]
    }
   ],
   "source": [
    "#Download the sas7bdat file into SAS Viya Workbench\n",
    "import requests\n",
    "\n",
    "# File path and name\n",
    "file_path = r\"/workspaces/myfolder/Bees/dst6.sas7bdat\"\n",
    " \n",
    "# Specify the URL of the CSV file\n",
    "url = r\"https://github.com/CharuSAS/SASPythonDataScientists/raw/main/dst6.sas7bdat\"\n",
    " \n",
    "# Download the and save CSV file to Workbench\n",
    "response = requests.get(url)\n",
    "with open(file_path, 'wb') as f:\n",
    "    f.write(response.content)\n",
    "    print(f'File downloaded:{file_path}')"
   ]
  },
  {
   "cell_type": "code",
   "execution_count": 2,
   "metadata": {},
   "outputs": [],
   "source": [
    "#Load data into a pandas dataframe\n",
    "import pandas as pd\n",
    "import numpy as np\n",
    "\n",
    "df = pd.read_sas(r\"/workspaces/myfolder/Bees/dst6.sas7bdat\", encoding='latin-1')"
   ]
  },
  {
   "cell_type": "markdown",
   "metadata": {},
   "source": [
    "For this machine learning example we want to predict whether we might find non-native bees in a sample, based on properties of the vegetation and the environment where we do the sample. This does assume we will find a bee in the sample, so we include as an input what kind of nest is present in the environment, but we don't include the species. The goal is to build a model to predict whether any non-native bees will be found."
   ]
  },
  {
   "cell_type": "code",
   "execution_count": 3,
   "metadata": {},
   "outputs": [],
   "source": [
    "#only keep columns we plan use for ML\n",
    "df = df[['no of specimens in sample','date','year', 'season','site','plot','sampling','vegetation cover','floral cover','height of vegetation (cm)','non-native bee']]"
   ]
  },
  {
   "cell_type": "code",
   "execution_count": 4,
   "metadata": {},
   "outputs": [
    {
     "data": {
      "text/html": [
       "<div>\n",
       "<style scoped>\n",
       "    .dataframe tbody tr th:only-of-type {\n",
       "        vertical-align: middle;\n",
       "    }\n",
       "\n",
       "    .dataframe tbody tr th {\n",
       "        vertical-align: top;\n",
       "    }\n",
       "\n",
       "    .dataframe thead th {\n",
       "        text-align: right;\n",
       "    }\n",
       "</style>\n",
       "<table border=\"1\" class=\"dataframe\">\n",
       "  <thead>\n",
       "    <tr style=\"text-align: right;\">\n",
       "      <th></th>\n",
       "      <th>no of specimens in sample</th>\n",
       "      <th>date</th>\n",
       "      <th>year</th>\n",
       "      <th>season</th>\n",
       "      <th>site</th>\n",
       "      <th>plot</th>\n",
       "      <th>sampling</th>\n",
       "      <th>vegetation cover</th>\n",
       "      <th>floral cover</th>\n",
       "      <th>height of vegetation (cm)</th>\n",
       "      <th>non-native bee</th>\n",
       "    </tr>\n",
       "  </thead>\n",
       "  <tbody>\n",
       "    <tr>\n",
       "      <th>0</th>\n",
       "      <td>NaN</td>\n",
       "      <td>2016-09-21</td>\n",
       "      <td>2016.0</td>\n",
       "      <td>late.season</td>\n",
       "      <td>A</td>\n",
       "      <td>non-native</td>\n",
       "      <td>hand netting</td>\n",
       "      <td>NaN</td>\n",
       "      <td>NaN</td>\n",
       "      <td>NaN</td>\n",
       "      <td>NA</td>\n",
       "    </tr>\n",
       "    <tr>\n",
       "      <th>1</th>\n",
       "      <td>NaN</td>\n",
       "      <td>2016-09-21</td>\n",
       "      <td>2016.0</td>\n",
       "      <td>late.season</td>\n",
       "      <td>B</td>\n",
       "      <td>non-native</td>\n",
       "      <td>hand netting</td>\n",
       "      <td>NaN</td>\n",
       "      <td>NaN</td>\n",
       "      <td>NaN</td>\n",
       "      <td>NA</td>\n",
       "    </tr>\n",
       "    <tr>\n",
       "      <th>2</th>\n",
       "      <td>NaN</td>\n",
       "      <td>2016-09-21</td>\n",
       "      <td>2016.0</td>\n",
       "      <td>late.season</td>\n",
       "      <td>C</td>\n",
       "      <td>non-native</td>\n",
       "      <td>hand netting</td>\n",
       "      <td>NaN</td>\n",
       "      <td>NaN</td>\n",
       "      <td>NaN</td>\n",
       "      <td>NA</td>\n",
       "    </tr>\n",
       "    <tr>\n",
       "      <th>3</th>\n",
       "      <td>NaN</td>\n",
       "      <td>2016-09-21</td>\n",
       "      <td>2016.0</td>\n",
       "      <td>late.season</td>\n",
       "      <td>C</td>\n",
       "      <td>native</td>\n",
       "      <td>hand netting</td>\n",
       "      <td>NaN</td>\n",
       "      <td>NaN</td>\n",
       "      <td>NaN</td>\n",
       "      <td>NA</td>\n",
       "    </tr>\n",
       "    <tr>\n",
       "      <th>4</th>\n",
       "      <td>NaN</td>\n",
       "      <td>2016-09-21</td>\n",
       "      <td>2016.0</td>\n",
       "      <td>late.season</td>\n",
       "      <td>C</td>\n",
       "      <td>native</td>\n",
       "      <td>hand netting</td>\n",
       "      <td>NaN</td>\n",
       "      <td>NaN</td>\n",
       "      <td>NaN</td>\n",
       "      <td>NA</td>\n",
       "    </tr>\n",
       "  </tbody>\n",
       "</table>\n",
       "</div>"
      ],
      "text/plain": [
       "  no of specimens in sample       date    year       season site        plot  \\\n",
       "0                       NaN 2016-09-21  2016.0  late.season    A  non-native   \n",
       "1                       NaN 2016-09-21  2016.0  late.season    B  non-native   \n",
       "2                       NaN 2016-09-21  2016.0  late.season    C  non-native   \n",
       "3                       NaN 2016-09-21  2016.0  late.season    C      native   \n",
       "4                       NaN 2016-09-21  2016.0  late.season    C      native   \n",
       "\n",
       "       sampling vegetation cover floral cover height of vegetation (cm)  \\\n",
       "0  hand netting              NaN          NaN                       NaN   \n",
       "1  hand netting              NaN          NaN                       NaN   \n",
       "2  hand netting              NaN          NaN                       NaN   \n",
       "3  hand netting              NaN          NaN                       NaN   \n",
       "4  hand netting              NaN          NaN                       NaN   \n",
       "\n",
       "  non-native bee  \n",
       "0             NA  \n",
       "1             NA  \n",
       "2             NA  \n",
       "3             NA  \n",
       "4             NA  "
      ]
     },
     "execution_count": 4,
     "metadata": {},
     "output_type": "execute_result"
    }
   ],
   "source": [
    "#This will be our dataset for modeling, notice all of the missing values\n",
    "df.head()"
   ]
  },
  {
   "cell_type": "code",
   "execution_count": 5,
   "metadata": {},
   "outputs": [
    {
     "name": "stdout",
     "output_type": "stream",
     "text": [
      "Initial dtypes:\n",
      " no of specimens in sample           object\n",
      "date                         datetime64[s]\n",
      "year                               float64\n",
      "season                              object\n",
      "site                                object\n",
      "plot                                object\n",
      "sampling                            object\n",
      "vegetation cover                    object\n",
      "floral cover                        object\n",
      "height of vegetation (cm)           object\n",
      "non-native bee                      object\n",
      "dtype: object\n"
     ]
    }
   ],
   "source": [
    "#Let's do some type conversion to clean up the data\n",
    "print('Initial dtypes:\\n', df.dtypes)\n",
    "\n",
    "df['non-native bee'] = pd.to_numeric(df['non-native bee'], errors='coerce')\n",
    "df['no of specimens in sample'] = pd.to_numeric(df['no of specimens in sample'])\n",
    "df['height of vegetation (cm)'] = pd.to_numeric(df['height of vegetation (cm)'])"
   ]
  },
  {
   "cell_type": "code",
   "execution_count": 6,
   "metadata": {},
   "outputs": [
    {
     "name": "stdout",
     "output_type": "stream",
     "text": [
      "non-native bee\n",
      "0.0    3022\n",
      "1.0     558\n",
      "Name: count, dtype: int64\n"
     ]
    }
   ],
   "source": [
    "#This will be our binary target variable, so let's drop missing values here\n",
    "print(df['non-native bee'].value_counts())\n",
    "\n",
    "df.dropna(axis=0, subset='non-native bee', inplace=True)"
   ]
  },
  {
   "cell_type": "code",
   "execution_count": 7,
   "metadata": {},
   "outputs": [],
   "source": [
    "#Let's process the date variable to create a month variable for use in ML, and then drop the date variable\n",
    "df['month'] = df['date'].dt.month\n",
    "df.drop('date', axis=1, inplace=True)"
   ]
  },
  {
   "cell_type": "code",
   "execution_count": 8,
   "metadata": {},
   "outputs": [],
   "source": [
    "#The sasviya.ml package prefers pandas dataframe, so change sklearn output to use dataframes\n",
    "import sklearn\n",
    "sklearn.set_config(transform_output=\"pandas\")"
   ]
  },
  {
   "cell_type": "code",
   "execution_count": 9,
   "metadata": {},
   "outputs": [
    {
     "name": "stdout",
     "output_type": "stream",
     "text": [
      "Training data shape: (2506, 10) \n",
      "Validation data shape: (1074, 10)\n"
     ]
    }
   ],
   "source": [
    "#We use sklearn to partition the data into training and validation data\n",
    "from sklearn.model_selection import train_test_split\n",
    "\n",
    "X = df.drop('non-native bee', axis=1)\n",
    "y = df['non-native bee']\n",
    "X_train, X_valid, y_train, y_valid = train_test_split(X, y, test_size=0.3, stratify=y, random_state=919)\n",
    "\n",
    "print(\"Training data shape:\", X_train.shape, \"\\n\" + \"Validation data shape:\", X_valid.shape)"
   ]
  },
  {
   "cell_type": "code",
   "execution_count": 10,
   "metadata": {},
   "outputs": [],
   "source": [
    "#fit a gradient boosting model\n",
    "#Note that we can skip imputation for this tree-based model since it can handle missing values\n",
    "from sasviya.ml.tree import GradientBoostingClassifier\n",
    "\n",
    "model = GradientBoostingClassifier(calc_feature_importances=True)"
   ]
  },
  {
   "cell_type": "code",
   "execution_count": 11,
   "metadata": {},
   "outputs": [
    {
     "data": {
      "text/plain": [
       "GradientBoostingClassifier(calc_feature_importances=True)"
      ]
     },
     "execution_count": 11,
     "metadata": {},
     "output_type": "execute_result"
    }
   ],
   "source": [
    "#Fit the model using the training data\n",
    "model.fit(X_train, y_train)"
   ]
  },
  {
   "cell_type": "code",
   "execution_count": 12,
   "metadata": {},
   "outputs": [],
   "source": [
    "#Evaluate model performance on the validation data\n",
    "y_pred = model.predict_proba(X_valid)\n",
    "valid_out = y_pred.join(y_valid)\n",
    "\n",
    "train_out = model.predict_proba(X_train).join(y_train)"
   ]
  },
  {
   "cell_type": "code",
   "execution_count": 13,
   "metadata": {},
   "outputs": [
    {
     "data": {
      "text/html": [
       "<div>\n",
       "<style scoped>\n",
       "    .dataframe tbody tr th:only-of-type {\n",
       "        vertical-align: middle;\n",
       "    }\n",
       "\n",
       "    .dataframe tbody tr th {\n",
       "        vertical-align: top;\n",
       "    }\n",
       "\n",
       "    .dataframe thead th {\n",
       "        text-align: right;\n",
       "    }\n",
       "</style>\n",
       "<table border=\"1\" class=\"dataframe\">\n",
       "  <thead>\n",
       "    <tr style=\"text-align: right;\">\n",
       "      <th></th>\n",
       "      <th>P_non_native_bee0</th>\n",
       "      <th>P_non_native_bee1</th>\n",
       "      <th>non-native bee</th>\n",
       "    </tr>\n",
       "  </thead>\n",
       "  <tbody>\n",
       "    <tr>\n",
       "      <th>2573</th>\n",
       "      <td>0.953078</td>\n",
       "      <td>0.046922</td>\n",
       "      <td>0.0</td>\n",
       "    </tr>\n",
       "    <tr>\n",
       "      <th>905</th>\n",
       "      <td>0.994508</td>\n",
       "      <td>0.005492</td>\n",
       "      <td>0.0</td>\n",
       "    </tr>\n",
       "    <tr>\n",
       "      <th>1895</th>\n",
       "      <td>0.983026</td>\n",
       "      <td>0.016974</td>\n",
       "      <td>0.0</td>\n",
       "    </tr>\n",
       "    <tr>\n",
       "      <th>2435</th>\n",
       "      <td>0.998956</td>\n",
       "      <td>0.001044</td>\n",
       "      <td>0.0</td>\n",
       "    </tr>\n",
       "    <tr>\n",
       "      <th>1429</th>\n",
       "      <td>0.965854</td>\n",
       "      <td>0.034146</td>\n",
       "      <td>0.0</td>\n",
       "    </tr>\n",
       "  </tbody>\n",
       "</table>\n",
       "</div>"
      ],
      "text/plain": [
       "      P_non_native_bee0  P_non_native_bee1  non-native bee\n",
       "2573           0.953078           0.046922             0.0\n",
       "905            0.994508           0.005492             0.0\n",
       "1895           0.983026           0.016974             0.0\n",
       "2435           0.998956           0.001044             0.0\n",
       "1429           0.965854           0.034146             0.0"
      ]
     },
     "execution_count": 13,
     "metadata": {},
     "output_type": "execute_result"
    }
   ],
   "source": [
    "valid_out.head()"
   ]
  },
  {
   "cell_type": "code",
   "execution_count": 14,
   "metadata": {},
   "outputs": [
    {
     "name": "stdout",
     "output_type": "stream",
     "text": [
      "Misclassification Rate on Validation Data for Gradient Boosting at 0.5 cutoff: 0.04003724394785846\n"
     ]
    }
   ],
   "source": [
    "#Calculate misclassification for 'champion' model on validation data\n",
    "from sklearn.metrics import accuracy_score\n",
    "\n",
    "cutoff = 0.5\n",
    "valid_preds = [1 if valid_out['P_non_native_bee1'][elem] > cutoff else 0 for elem in valid_out.index]\n",
    "\n",
    "print('Misclassification Rate on Validation Data for Gradient Boosting at',cutoff,'cutoff:', 1-accuracy_score(valid_out['non-native bee'], valid_preds))"
   ]
  },
  {
   "cell_type": "code",
   "execution_count": 15,
   "metadata": {},
   "outputs": [
    {
     "data": {
      "image/png": "[encoded data removed]",
      "text/plain": [
       "<Figure size 1000x800 with 1 Axes>"
      ]
     },
     "metadata": {},
     "output_type": "display_data"
    }
   ],
   "source": [
    "#plot ROC\n",
    "from sklearn.metrics import roc_curve\n",
    "from matplotlib import pyplot as plt\n",
    "\n",
    "plt.figure(figsize=(10,8))\n",
    "plt.xlabel('False Positive Rate')\n",
    "plt.ylabel('True Positive Rate')\n",
    "\n",
    "plt.title('ROC Curve for Training/Validation Data')\n",
    "\n",
    "train_roc = roc_curve(train_out['non-native bee'], train_out['P_non_native_bee1'], pos_label=1)\n",
    "valid_roc = roc_curve(valid_out['non-native bee'], valid_out['P_non_native_bee1'], pos_label=1)\n",
    "\n",
    "\n",
    "plt.plot(train_roc[0], train_roc[1])\n",
    "plt.plot(valid_roc[0], valid_roc[1])\n",
    "plt.legend(['Training','Validation']);"
   ]
  },
  {
   "cell_type": "code",
   "execution_count": 16,
   "metadata": {},
   "outputs": [
    {
     "data": {
      "text/html": [
       "<div>\n",
       "<style scoped>\n",
       "    .dataframe tbody tr th:only-of-type {\n",
       "        vertical-align: middle;\n",
       "    }\n",
       "\n",
       "    .dataframe tbody tr th {\n",
       "        vertical-align: top;\n",
       "    }\n",
       "\n",
       "    .dataframe thead th {\n",
       "        text-align: right;\n",
       "    }\n",
       "</style>\n",
       "<table border=\"1\" class=\"dataframe\">\n",
       "  <thead>\n",
       "    <tr style=\"text-align: right;\">\n",
       "      <th></th>\n",
       "      <th>Variable</th>\n",
       "      <th>Importance</th>\n",
       "      <th>Std</th>\n",
       "      <th>Count</th>\n",
       "    </tr>\n",
       "  </thead>\n",
       "  <tbody>\n",
       "    <tr>\n",
       "      <th>0</th>\n",
       "      <td>no of specimens in sample</td>\n",
       "      <td>14.160217</td>\n",
       "      <td>37.920309</td>\n",
       "      <td>266.0</td>\n",
       "    </tr>\n",
       "    <tr>\n",
       "      <th>1</th>\n",
       "      <td>plot</td>\n",
       "      <td>2.833015</td>\n",
       "      <td>12.418197</td>\n",
       "      <td>71.0</td>\n",
       "    </tr>\n",
       "    <tr>\n",
       "      <th>2</th>\n",
       "      <td>floral cover</td>\n",
       "      <td>2.775160</td>\n",
       "      <td>2.484855</td>\n",
       "      <td>244.0</td>\n",
       "    </tr>\n",
       "    <tr>\n",
       "      <th>3</th>\n",
       "      <td>month</td>\n",
       "      <td>2.205808</td>\n",
       "      <td>3.926887</td>\n",
       "      <td>155.0</td>\n",
       "    </tr>\n",
       "    <tr>\n",
       "      <th>4</th>\n",
       "      <td>vegetation cover</td>\n",
       "      <td>1.767559</td>\n",
       "      <td>1.217433</td>\n",
       "      <td>202.0</td>\n",
       "    </tr>\n",
       "    <tr>\n",
       "      <th>5</th>\n",
       "      <td>site</td>\n",
       "      <td>1.245338</td>\n",
       "      <td>1.083839</td>\n",
       "      <td>169.0</td>\n",
       "    </tr>\n",
       "    <tr>\n",
       "      <th>6</th>\n",
       "      <td>sampling</td>\n",
       "      <td>0.355896</td>\n",
       "      <td>0.651035</td>\n",
       "      <td>50.0</td>\n",
       "    </tr>\n",
       "    <tr>\n",
       "      <th>7</th>\n",
       "      <td>height of vegetation (cm)</td>\n",
       "      <td>0.332582</td>\n",
       "      <td>0.594849</td>\n",
       "      <td>55.0</td>\n",
       "    </tr>\n",
       "    <tr>\n",
       "      <th>8</th>\n",
       "      <td>season</td>\n",
       "      <td>0.215867</td>\n",
       "      <td>0.586847</td>\n",
       "      <td>28.0</td>\n",
       "    </tr>\n",
       "  </tbody>\n",
       "</table>\n",
       "</div>"
      ],
      "text/plain": [
       "                    Variable  Importance        Std  Count\n",
       "0  no of specimens in sample   14.160217  37.920309  266.0\n",
       "1                       plot    2.833015  12.418197   71.0\n",
       "2               floral cover    2.775160   2.484855  244.0\n",
       "3                      month    2.205808   3.926887  155.0\n",
       "4           vegetation cover    1.767559   1.217433  202.0\n",
       "5                       site    1.245338   1.083839  169.0\n",
       "6                   sampling    0.355896   0.651035   50.0\n",
       "7  height of vegetation (cm)    0.332582   0.594849   55.0\n",
       "8                     season    0.215867   0.586847   28.0"
      ]
     },
     "execution_count": 16,
     "metadata": {},
     "output_type": "execute_result"
    }
   ],
   "source": [
    "#Explore variable importance table to understand the model\n",
    "model.feature_importances_"
   ]
  }
 ],
 "metadata": {
  "kernelspec": {
   "display_name": "Python 3",
   "language": "python",
   "name": "python3"
  },
  "language_info": {
   "codemirror_mode": {
    "name": "ipython",
    "version": 3
   },
   "file_extension": ".py",
   "mimetype": "text/x-python",
   "name": "python",
   "nbconvert_exporter": "python",
   "pygments_lexer": "ipython3",
   "version": "3.11.9"
  }
 },
 "nbformat": 4,
 "nbformat_minor": 2
}
