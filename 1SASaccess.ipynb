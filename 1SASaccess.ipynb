{
 "cells": [
  {
   "cell_type": "markdown",
   "metadata": {},
   "source": [
    "## SAS Data Science Methodology"
   ]
  },
  {
   "cell_type": "markdown",
   "metadata": {},
   "source": [
    "<b>Access - Identify analysis tables that will be used and  load those tables.</b><br> \n",
    "Explore/Investigate - Inspect tables to determine whether any changes are needed for data items due to data inconsistencies or data quality issues, as well as identify any new data items <br>that need to be calculated. <br>\n",
    "Prepare - Correct any data quality issues and create any new calculated items needed for analysis. <br>\n",
    "Analyze - Explore  data to identify any patterns, relationships, and trends. <br>\n",
    "Report - Develop interactive reports that can be shared via the web or a mobile device."
   ]
  },
  {
   "cell_type": "markdown",
   "metadata": {},
   "source": [
    "## Data Access SAS"
   ]
  },
  {
   "cell_type": "markdown",
   "metadata": {},
   "source": [
    "#### Reading a CSV File into a SAS Dataset"
   ]
  },
  {
   "cell_type": "markdown",
   "metadata": {},
   "source": [
    "Reading a CSV file into a SAS dataset is the first step in data analysis using SAS. This task involves using the PROC IMPORT procedure to load data from a CSV file into a SAS dataset, \n",
    "making the data accessible for various operations such as filtering, grouping, and aggregating. The dataset is stored in the WORK library for temporary use during the session."
   ]
  },
  {
   "cell_type": "code",
   "execution_count": null,
   "metadata": {},
   "outputs": [],
   "source": [
    "/* Read the north american bumblebee CSV file into a SAS dataset for easy data manipulation and analysis -workbench workspace*/\n",
    "proc import file=\"/workspaces/myfolder/SASPythonDataScientists/pattern_decline_N_American_Bumblebees.csv\" out=dst1 dbms=csv replace;"
   ]
  },
  {
   "cell_type": "code",
   "execution_count": null,
   "metadata": {},
   "outputs": [],
   "source": [
    "/* Read the mexican bumblebee CSV file into a SAS dataset for easy data manipulation and analysis -workbench workspace*/\n",
    "proc import file=\"/workspaces/myfolder/SASPythonDataScientists/pattern_decline_Mexican_Bumblebees.csv\" out=dst2 dbms=csv replace;\n",
    "run;"
   ]
  },
  {
   "cell_type": "code",
   "execution_count": null,
   "metadata": {},
   "outputs": [],
   "source": [
    "/* Read the scientific and common name lookup csv file into a SAS dataset */\n",
    "proc import file=\"/workspaces/myfolder/SASPythonDataScientists/Bumblebee_Others_Scientific_Common_Names.csv\" out=dst3 dbms=csv replace;\n",
    "run;"
   ]
  },
  {
   "cell_type": "code",
   "execution_count": null,
   "metadata": {},
   "outputs": [],
   "source": [
    "/* Read the native vs non native bee csv file into a SAS dataset */\n",
    "proc import file=\"/workspaces/myfolder/SASPythonDataScientists/native_vs_nonnative_bumblebee_sighting_pollinators_of_farm_data_for_publication.csv\" out=work.dst4 dbms=csv replace;\n",
    "run;"
   ]
  }
 ],
 "metadata": {
  "kernelspec": {
   "display_name": "Python 3",
   "language": "python",
   "name": "python3"
  },
  "language_info": {
   "codemirror_mode": {
    "name": "ipython",
    "version": 3
   },
   "file_extension": ".py",
   "mimetype": "text/x-python",
   "name": "python",
   "nbconvert_exporter": "python",
   "pygments_lexer": "ipython3",
   "version": "3.11.11"
  }
 },
 "nbformat": 4,
 "nbformat_minor": 2
}
